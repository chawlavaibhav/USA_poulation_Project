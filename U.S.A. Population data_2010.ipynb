{
 "cells": [
  {
   "cell_type": "markdown",
   "metadata": {},
   "source": [
    "## Introduction"
   ]
  },
  {
   "cell_type": "markdown",
   "metadata": {},
   "source": [
    "The dataset is about U.S.A. population in the year 2010. We will do analysis of this data to learn a bit more about population distributiom of U.S.A in the year 2010. "
   ]
  },
  {
   "cell_type": "code",
   "execution_count": 5,
   "metadata": {
    "collapsed": false
   },
   "outputs": [],
   "source": [
    "# lets first do the imports\n",
    "import pandas as pd\n",
    "from pandas import Series,DataFrame\n",
    "import numpy as np\n",
    "import matplotlib.pyplot as plt\n",
    "import seaborn as sns\n",
    "%matplotlib inline\n",
    "from __future__ import division "
   ]
  },
  {
   "cell_type": "code",
   "execution_count": 6,
   "metadata": {
    "collapsed": false
   },
   "outputs": [],
   "source": [
    "df = pd.read_csv(\"us-age-gender-breakdown.csv\")"
   ]
  },
  {
   "cell_type": "code",
   "execution_count": 7,
   "metadata": {
    "collapsed": false,
    "scrolled": true
   },
   "outputs": [
    {
     "data": {
      "text/html": [
       "<div>\n",
       "<table border=\"1\" class=\"dataframe\">\n",
       "  <thead>\n",
       "    <tr style=\"text-align: right;\">\n",
       "      <th></th>\n",
       "      <th>Age_Range</th>\n",
       "      <th>Total_Pop_2010</th>\n",
       "      <th>Males_2010</th>\n",
       "      <th>Females_2010</th>\n",
       "    </tr>\n",
       "  </thead>\n",
       "  <tbody>\n",
       "    <tr>\n",
       "      <th>0</th>\n",
       "      <td>&lt;5</td>\n",
       "      <td>20201362</td>\n",
       "      <td>10319427</td>\n",
       "      <td>9881935</td>\n",
       "    </tr>\n",
       "    <tr>\n",
       "      <th>1</th>\n",
       "      <td>5-9</td>\n",
       "      <td>20348657</td>\n",
       "      <td>10389638</td>\n",
       "      <td>9959019</td>\n",
       "    </tr>\n",
       "    <tr>\n",
       "      <th>2</th>\n",
       "      <td>10-14</td>\n",
       "      <td>20677194</td>\n",
       "      <td>10579862</td>\n",
       "      <td>10097332</td>\n",
       "    </tr>\n",
       "    <tr>\n",
       "      <th>3</th>\n",
       "      <td>15-19</td>\n",
       "      <td>22040343</td>\n",
       "      <td>11303666</td>\n",
       "      <td>10736677</td>\n",
       "    </tr>\n",
       "    <tr>\n",
       "      <th>4</th>\n",
       "      <td>20-24</td>\n",
       "      <td>21585999</td>\n",
       "      <td>11014176</td>\n",
       "      <td>10571823</td>\n",
       "    </tr>\n",
       "  </tbody>\n",
       "</table>\n",
       "</div>"
      ],
      "text/plain": [
       "  Age_Range  Total_Pop_2010  Males_2010  Females_2010\n",
       "0        <5        20201362    10319427       9881935\n",
       "1       5-9        20348657    10389638       9959019\n",
       "2     10-14        20677194    10579862      10097332\n",
       "3     15-19        22040343    11303666      10736677\n",
       "4     20-24        21585999    11014176      10571823"
      ]
     },
     "execution_count": 7,
     "metadata": {},
     "output_type": "execute_result"
    }
   ],
   "source": [
    "# Lets have a look at the data\n",
    "df.head()"
   ]
  },
  {
   "cell_type": "code",
   "execution_count": 6,
   "metadata": {
    "collapsed": false
   },
   "outputs": [
    {
     "name": "stdout",
     "output_type": "stream",
     "text": [
      "<class 'pandas.core.frame.DataFrame'>\n",
      "RangeIndex: 21 entries, 0 to 20\n",
      "Data columns (total 4 columns):\n",
      "Age_Range         21 non-null object\n",
      "Total_Pop_2010    21 non-null int64\n",
      "Males_2010        21 non-null int64\n",
      "Females_2010      21 non-null int64\n",
      "dtypes: int64(3), object(1)\n",
      "memory usage: 744.0+ bytes\n"
     ]
    }
   ],
   "source": [
    "df.info()"
   ]
  },
  {
   "cell_type": "markdown",
   "metadata": {
    "collapsed": false
   },
   "source": [
    "So, they are 21 Age bins and the corresponding total, male and female population. Lets explore various aspects of this data."
   ]
  },
  {
   "cell_type": "markdown",
   "metadata": {},
   "source": [
    "## Exploratory Data Analysis"
   ]
  },
  {
   "cell_type": "markdown",
   "metadata": {},
   "source": [
    "Let us first see the total population distribution in 2010 and overall sex ratio."
   ]
  },
  {
   "cell_type": "code",
   "execution_count": 9,
   "metadata": {
    "collapsed": false
   },
   "outputs": [
    {
     "name": "stdout",
     "output_type": "stream",
     "text": [
      "151781326 156964212 0.966980460489\n"
     ]
    }
   ],
   "source": [
    "#lets see number of males and females\n",
    "males = df[\"Males_2010\"].sum()\n",
    "females = df[\"Females_2010\"].sum()\n",
    "ratio = males/females\n",
    "print males,females,ratio"
   ]
  },
  {
   "cell_type": "markdown",
   "metadata": {},
   "source": [
    "Seems like there are more females than males. Lets see the ratio in different Age groups"
   ]
  },
  {
   "cell_type": "code",
   "execution_count": 11,
   "metadata": {
    "collapsed": false
   },
   "outputs": [],
   "source": [
    "# Adding a new column in the database\n",
    "df[\"ratio\"] = df[\"Males_2010\"]/df[\"Females_2010\"]"
   ]
  },
  {
   "cell_type": "code",
   "execution_count": 12,
   "metadata": {
    "collapsed": false
   },
   "outputs": [
    {
     "data": {
      "text/html": [
       "<div>\n",
       "<table border=\"1\" class=\"dataframe\">\n",
       "  <thead>\n",
       "    <tr style=\"text-align: right;\">\n",
       "      <th></th>\n",
       "      <th>Age_Range</th>\n",
       "      <th>Total_Pop_2010</th>\n",
       "      <th>Males_2010</th>\n",
       "      <th>Females_2010</th>\n",
       "      <th>ratio</th>\n",
       "    </tr>\n",
       "  </thead>\n",
       "  <tbody>\n",
       "    <tr>\n",
       "      <th>0</th>\n",
       "      <td>&lt;5</td>\n",
       "      <td>20201362</td>\n",
       "      <td>10319427</td>\n",
       "      <td>9881935</td>\n",
       "      <td>1.044272</td>\n",
       "    </tr>\n",
       "    <tr>\n",
       "      <th>1</th>\n",
       "      <td>5-9</td>\n",
       "      <td>20348657</td>\n",
       "      <td>10389638</td>\n",
       "      <td>9959019</td>\n",
       "      <td>1.043239</td>\n",
       "    </tr>\n",
       "    <tr>\n",
       "      <th>2</th>\n",
       "      <td>10-14</td>\n",
       "      <td>20677194</td>\n",
       "      <td>10579862</td>\n",
       "      <td>10097332</td>\n",
       "      <td>1.047788</td>\n",
       "    </tr>\n",
       "    <tr>\n",
       "      <th>3</th>\n",
       "      <td>15-19</td>\n",
       "      <td>22040343</td>\n",
       "      <td>11303666</td>\n",
       "      <td>10736677</td>\n",
       "      <td>1.052809</td>\n",
       "    </tr>\n",
       "    <tr>\n",
       "      <th>4</th>\n",
       "      <td>20-24</td>\n",
       "      <td>21585999</td>\n",
       "      <td>11014176</td>\n",
       "      <td>10571823</td>\n",
       "      <td>1.041843</td>\n",
       "    </tr>\n",
       "  </tbody>\n",
       "</table>\n",
       "</div>"
      ],
      "text/plain": [
       "  Age_Range  Total_Pop_2010  Males_2010  Females_2010     ratio\n",
       "0        <5        20201362    10319427       9881935  1.044272\n",
       "1       5-9        20348657    10389638       9959019  1.043239\n",
       "2     10-14        20677194    10579862      10097332  1.047788\n",
       "3     15-19        22040343    11303666      10736677  1.052809\n",
       "4     20-24        21585999    11014176      10571823  1.041843"
      ]
     },
     "execution_count": 12,
     "metadata": {},
     "output_type": "execute_result"
    }
   ],
   "source": [
    "#Lets have a look again\n",
    "df.head()"
   ]
  },
  {
   "cell_type": "markdown",
   "metadata": {},
   "source": [
    "It appears that most of the age gropus have sex-ratio greater than one. Lets see the groups with maximum and minimum sex ratio."
   ]
  },
  {
   "cell_type": "code",
   "execution_count": 13,
   "metadata": {
    "collapsed": false
   },
   "outputs": [
    {
     "data": {
      "text/plain": [
       "Age_Range            15-19\n",
       "Total_Pop_2010    22040343\n",
       "Males_2010        11303666\n",
       "Females_2010      10736677\n",
       "ratio              1.05281\n",
       "Name: 3, dtype: object"
      ]
     },
     "execution_count": 13,
     "metadata": {},
     "output_type": "execute_result"
    }
   ],
   "source": [
    "#Lets first see the group with maximum ratio of males over females\n",
    "df.loc[df[\"ratio\"].idxmax()]"
   ]
  },
  {
   "cell_type": "code",
   "execution_count": 14,
   "metadata": {
    "collapsed": false
   },
   "outputs": [
    {
     "data": {
      "text/plain": [
       "Age_Range             100+\n",
       "Total_Pop_2010       53364\n",
       "Males_2010            9162\n",
       "Females_2010         44202\n",
       "ratio             0.207276\n",
       "Name: 20, dtype: object"
      ]
     },
     "execution_count": 14,
     "metadata": {},
     "output_type": "execute_result"
    }
   ],
   "source": [
    "#Now lets first see the group with minimum ratio of males over females\n",
    "df.loc[df[\"ratio\"].idxmin()]"
   ]
  },
  {
   "cell_type": "code",
   "execution_count": 15,
   "metadata": {
    "collapsed": false
   },
   "outputs": [
    {
     "data": {
      "text/plain": [
       "Age_Range            45-49\n",
       "Total_Pop_2010    22708591\n",
       "Males_2010        11209085\n",
       "Females_2010      11499506\n",
       "ratio             0.974745\n",
       "Name: 9, dtype: object"
      ]
     },
     "execution_count": 15,
     "metadata": {},
     "output_type": "execute_result"
    }
   ],
   "source": [
    "#Now lets see the group with max population\n",
    "df.loc[df[\"Total_Pop_2010\"].idxmax()]"
   ]
  },
  {
   "cell_type": "markdown",
   "metadata": {},
   "source": [
    "Now, lets go a little deeper. For a country it's young population is very much important. While the definition of young varies person to person, we will define it from 20-34. Lets see how much proportion they constiute of the total population in 2010."
   ]
  },
  {
   "cell_type": "code",
   "execution_count": 18,
   "metadata": {
    "collapsed": false
   },
   "outputs": [
    {
     "data": {
      "text/plain": [
       "4    20-24\n",
       "5    25-29\n",
       "6    30-34\n",
       "Name: Age_Range, dtype: object"
      ]
     },
     "execution_count": 18,
     "metadata": {},
     "output_type": "execute_result"
    }
   ],
   "source": [
    "# Age_Range of young population\n",
    "df[\"Age_Range\"][4:7]"
   ]
  },
  {
   "cell_type": "code",
   "execution_count": 48,
   "metadata": {
    "collapsed": false
   },
   "outputs": [
    {
     "data": {
      "text/plain": [
       "0.20291774062820625"
      ]
     },
     "execution_count": 48,
     "metadata": {},
     "output_type": "execute_result"
    }
   ],
   "source": [
    "df[\"Total_Pop_2010\"][4:7].sum()/df[\"Total_Pop_2010\"].sum()"
   ]
  },
  {
   "cell_type": "markdown",
   "metadata": {},
   "source": [
    "So, approximately 20% of U.S. population was young in 2010. Certainly not a good figure. Nevertheless, lets determine the working population for U.S.A. We are taking it as people in the age group 20-59."
   ]
  },
  {
   "cell_type": "code",
   "execution_count": 21,
   "metadata": {
    "collapsed": false
   },
   "outputs": [
    {
     "data": {
      "text/plain": [
       "4     20-24\n",
       "5     25-29\n",
       "6     30-34\n",
       "7     35-39\n",
       "8     40-44\n",
       "9     45-49\n",
       "10    50-54\n",
       "11    55-59\n",
       "Name: Age_Range, dtype: object"
      ]
     },
     "execution_count": 21,
     "metadata": {},
     "output_type": "execute_result"
    }
   ],
   "source": [
    "#Working population\n",
    "df[\"Age_Range\"][4:12]"
   ]
  },
  {
   "cell_type": "code",
   "execution_count": 53,
   "metadata": {
    "collapsed": false
   },
   "outputs": [
    {
     "data": {
      "text/plain": [
       "0.5454073120888309"
      ]
     },
     "execution_count": 53,
     "metadata": {},
     "output_type": "execute_result"
    }
   ],
   "source": [
    "df[\"Total_Pop_2010\"][4:12].sum()/df[\"Total_Pop_2010\"].sum()"
   ]
  },
  {
   "cell_type": "markdown",
   "metadata": {},
   "source": [
    "Around 55% of U.S.A. population in 2010 was capable of contributing towards the economy. Great!Now, we have played with the figures. Lets do some plotting."
   ]
  },
  {
   "cell_type": "markdown",
   "metadata": {},
   "source": [
    "### Figure 1 : Male- Female poulation distribution with age-groups"
   ]
  },
  {
   "cell_type": "code",
   "execution_count": 22,
   "metadata": {
    "collapsed": false
   },
   "outputs": [
    {
     "data": {
      "text/plain": [
       "<matplotlib.text.Text at 0xbb9c240>"
      ]
     },
     "execution_count": 22,
     "metadata": {},
     "output_type": "execute_result"
    },
    {
     "data": {
      "image/png": "[encoded data removed]",
      "text/plain": [
       "<matplotlib.figure.Figure at 0xa298828>"
      ]
     },
     "metadata": {},
     "output_type": "display_data"
    }
   ],
   "source": [
    "fig = plt.figure(figsize=(15, 7))\n",
    "ax1 = fig.add_subplot(111)\n",
    "\n",
    "for (i, row) in df.iterrows():\n",
    "    plt.bar([i, i], [row['Females_2010'], -row['Males_2010']],\n",
    "            color=['#CC6699', '#008AB8'], width=0.8, align='center', edgecolor='none')\n",
    "plt.xlim(-0.6, 20.6)\n",
    "plt.ylim(-12.1e6, 12.1e6)\n",
    "#plt.grid(False, axis='x')\n",
    "plt.xticks(np.arange(0, 21), df['Age_Range'], fontsize=11)\n",
    "plt.yticks(np.arange(-12e6, 13e6, 2e6),\n",
    "           ['{}m'.format(int(abs(x) / 1e6)) if x != 0 else 0 for x in np.arange(-12e6, 13e6, 2e6)])\n",
    "plt.xlabel('Age group')\n",
    "plt.ylabel('Number of people (millions)')    "
   ]
  },
  {
   "cell_type": "markdown",
   "metadata": {},
   "source": [
    "### Figure 2 : Male-Female Popluation distrbution "
   ]
  },
  {
   "cell_type": "code",
   "execution_count": 58,
   "metadata": {
    "collapsed": false
   },
   "outputs": [
    {
     "data": {
      "text/plain": [
       "<matplotlib.text.Text at 0xc063358>"
      ]
     },
     "execution_count": 58,
     "metadata": {},
     "output_type": "execute_result"
    },
    {
     "data": {
      "image/png": "[encoded data removed]",
      "text/plain": [
       "<matplotlib.figure.Figure at 0xbe5b048>"
      ]
     },
     "metadata": {},
     "output_type": "display_data"
    }
   ],
   "source": [
    "fig = plt.figure(figsize=(15, 7))\n",
    "ax1 = fig.add_subplot(111)\n",
    "\n",
    "for (i, row) in df.iterrows():\n",
    "    plt.bar([i - 0.2, i + 0.2], [row['Females_2010'], row['Males_2010']],\n",
    "            color=['#CC6699', '#008AB8'], width=0.4, align='center', edgecolor='none')\n",
    "    \n",
    "plt.xlim(-0.6, 20.6)\n",
    "plt.xticks(range(0, 21), df['Age_Range'], fontsize=11)\n",
    "plt.grid(False, axis='x')\n",
    "plt.yticks(np.arange(0, 13e6, 1e6),\n",
    "           ['{}m'.format(int(x / 1e6)) if x > 0 else 0 for x in np.arange(0, 13e6, 1e6)])\n",
    "plt.xlabel('Age group')\n",
    "plt.ylabel('Number of people (millions)')\n"
   ]
  },
  {
   "cell_type": "markdown",
   "metadata": {
    "collapsed": true
   },
   "source": [
    "## Reflection"
   ]
  },
  {
   "cell_type": "markdown",
   "metadata": {},
   "source": [
    "The dataset gives the information about population of U.S.A. in the year2010. The population is distributed in theage groups.\n",
    "Analysis of the total population revealed that overall, there are more females than males. Aslo, 20% of U.S. population is young(Age between 20-34) while 55% of population is in working age group(20-59). Thats really a great sign for economy.\n",
    "While, males were slightly higher than females in count, in younger age groups, the sex ratio was inclined in the favour of females in the older age group and overall too. Two figures, have been put that nicely support the stats."
   ]
  },
  {
   "cell_type": "code",
   "execution_count": null,
   "metadata": {
    "collapsed": true
   },
   "outputs": [],
   "source": []
  }
 ],
 "metadata": {
  "kernelspec": {
   "display_name": "Python [Root]",
   "language": "python",
   "name": "Python [Root]"
  },
  "language_info": {
   "codemirror_mode": {
    "name": "ipython",
    "version": 2
   },
   "file_extension": ".py",
   "mimetype": "text/x-python",
   "name": "python",
   "nbconvert_exporter": "python",
   "pygments_lexer": "ipython2",
   "version": "2.7.12"
  }
 },
 "nbformat": 4,
 "nbformat_minor": 0
}
